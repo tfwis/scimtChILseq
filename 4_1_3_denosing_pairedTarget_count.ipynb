{
 "cells": [
  {
   "cell_type": "markdown",
   "metadata": {},
   "source": [
    "## Denoising Paired-target Count Matrices with PeakVI"
   ]
  },
  {
   "cell_type": "code",
   "execution_count": null,
   "metadata": {},
   "outputs": [],
   "source": [
    "import os\n",
    "import tempfile\n",
    "import scvi\n",
    "import scanpy as sc\n",
    "import torch\n",
    "import anndata\n",
    "from scipy.io import mmread\n",
    "import pandas as pd\n",
    "import numpy as np\n",
    "import pickle"
   ]
  },
  {
   "cell_type": "code",
   "execution_count": null,
   "metadata": {},
   "outputs": [],
   "source": [
    "torch.cuda.is_available()"
   ]
  },
  {
   "cell_type": "code",
   "execution_count": null,
   "metadata": {},
   "outputs": [],
   "source": [
    "torch.set_float32_matmul_precision(\"high\")\n",
    "save_dir = tempfile.TemporaryDirectory()"
   ]
  },
  {
   "cell_type": "code",
   "execution_count": null,
   "metadata": {},
   "outputs": [],
   "source": [
    "knnmems = mmread('data/out/pre_cg_output_KNNmembership_1k.mtx').tocsr()\n",
    "ref_obs = pd.read_csv('data/out/pre_cg_output_obs.csv')['cell'].values"
   ]
  },
  {
   "cell_type": "code",
   "execution_count": null,
   "metadata": {},
   "outputs": [],
   "source": [
    "def peakviii(ab,indir,nhidden=20,nlatent=5,min_cells=0,min_counts=0):\n",
    "  os.chdir(indir)\n",
    "  prefix = ab\n",
    "\n",
    "  matin = mmread(prefix+'_count.mtx')\n",
    "  matin = matin.tocsr()\n",
    "  matin = matin.transpose()\n",
    "\n",
    "  obsin = pd.read_csv(prefix+'_obs.csv',index_col=0)\n",
    "  varin = pd.read_csv(prefix+'_var.csv',index_col=0)\n",
    "  \n",
    "  adata = anndata.AnnData(X = matin, obs = obsin, var = varin)\n",
    "  sc.pp.filter_genes(adata, min_cells=min_cells)\n",
    "  sc.pp.filter_cells(adata, min_counts=min_counts)\n",
    "\n",
    "  scvi.model.PEAKVI.setup_anndata(adata,categorical_covariate_keys=[\"rep\"])\n",
    "  model = scvi.model.PEAKVI(adata,n_hidden=nhidden,n_latent=nlatent)\n",
    "  model.to_device(\"cuda:0\")\n",
    "  model.train(max_epochs=1000)\n",
    "\n",
    "  model_dir = os.path.join(save_dir.name, \"peakvi_\"+ab)\n",
    "  model.save(model_dir, overwrite=True)\n",
    "  model = scvi.model.PEAKVI.load(model_dir, adata=adata)\n",
    "\n",
    "  PEAKVI_LATENT_KEY = \"X_peakvi\"\n",
    "  latent = model.get_latent_representation()\n",
    "  adata.obsm[PEAKVI_LATENT_KEY] = latent\n",
    "\n",
    "  adata.obsm['X_peakvi'] = model.get_latent_representation()\n",
    "  sc.pp.neighbors(adata, use_rep='X_peakvi',n_neighbors=30)\n",
    "  sc.tl.umap(adata, min_dist=0.3)\n",
    "\n",
    "  return adata,model\n",
    "\n",
    "\n",
    "def saveResults(ab,adata,model,outdir):\n",
    "  if not os.path.isdir(outdir):\n",
    "    os.mkdir(outdir)\n",
    "  os.chdir(outdir)\n",
    "  prefix = ab\n",
    "\n",
    "  with open(prefix+'_model.pkl', 'wb') as f:\n",
    "    pickle.dump(model, f)\n",
    "\n",
    "  latent = adata.obsm[\"X_peakvi\"]\n",
    "  np.savetxt(prefix+\"_latent.csv\",latent)\n",
    "  um = adata.obsm[\"X_umap\"]\n",
    "  np.savetxt(prefix+\"_umap.csv\",um)\n",
    "\n",
    "  obs = adata.obs\n",
    "  obs.to_csv(prefix+\"_obs.csv\")\n",
    "  var = adata.var\n",
    "  var.to_csv(prefix+\"_var.csv\")\n",
    "\n",
    "\n",
    "def Denoise(ab,adata,model,outdir,usereg=None):\n",
    "  prefix = ab\n",
    "  denoised = model.get_accessibility_estimates(adata)\n",
    "  if usereg is not None:\n",
    "    regs = denoised.columns.values\n",
    "    usereg = outdir+ab+'_usevar.csv'\n",
    "    usereg  = pd.read_csv(usereg,delimiter='\\t')['region'].values\n",
    "    if np.char.find(regs[0], '_')>0:\n",
    "      usereg = np.char.replace(usereg.astype(str),\"-\", \"_\")\n",
    "    usereg = np.unique(usereg)\n",
    "    usereg = np.intersect1d(usereg,regs)\n",
    "    denoised = denoised[usereg]\n",
    "  denoised = np.transpose(denoised)\n",
    "  \n",
    "  if ab == 'RNAPII':\n",
    "    cell1 = ref_obs\n",
    "  else:\n",
    "    cell1 = [col for col in ref_obs if ab in col]\n",
    "  cell1 = np.array(cell1)\n",
    "  cell2 = denoised.columns.values\n",
    "  idx = np.isin(cell1, cell2)\n",
    "  use = cell1[idx]\n",
    "  \n",
    "  knnmems_sub = knnmems[:, idx]\n",
    "  denoised = denoised.loc[:, use]\n",
    "\n",
    "  row_sums = knnmems_sub.sum(axis=1)\n",
    "  knnmems_sub = knnmems_sub/row_sums\n",
    "\n",
    "  avgmat = denoised.values @ knnmems_sub.transpose()\n",
    "  avgmat = pd.DataFrame(avgmat)\n",
    "  avgmat.index = denoised.index\n",
    "  avgmat.to_csv(outdir+'/'+ab+'_denoised_avg.csv', index=True, header=False)\n",
    "\n",
    "\n",
    "def fun(ab,indir,outdir,train=True,nhidden=50,nlatent=10,denoise=True,modeldir=None,min_cells=0,min_counts=0,usereg=None):\n",
    "  if train:\n",
    "    adata,model = peakviii(ab,indir,nhidden=nhidden,nlatent=nlatent,min_cells=min_cells,min_counts=min_counts)\n",
    "    saveResults(ab,adata,model,outdir)\n",
    "  elif denoise:\n",
    "    if modeldir == None:\n",
    "      modeldir = outdir\n",
    "    with open(modeldir+'/'+ab+'_model.pkl', 'rb') as f:\n",
    "      model = pickle.load(f)\n",
    "    adata = model.adata\n",
    "\n",
    "  if denoise:\n",
    "    Denoise(ab,adata,model,outdir,usereg)\n",
    "\n",
    "  return(adata)\n"
   ]
  },
  {
   "cell_type": "code",
   "execution_count": null,
   "metadata": {},
   "outputs": [],
   "source": [
    "indir = 'data/mtx_filtered/'\n",
    "outdir = 'out/peakvi_out/'\n",
    "Abs = ['Brg1', 'H3K27ac', 'H3K4me3', 'MyoD', 'Myog']\n",
    "\n",
    "adata = {}\n",
    "for ab in Abs:\n",
    "  adata[ab] = fun(ab,indir,outdir,denoise=False)"
   ]
  },
  {
   "cell_type": "code",
   "execution_count": null,
   "metadata": {},
   "outputs": [],
   "source": [
    "modeldir = 'data/out/peakvi_out/'\n",
    "outdir = 'data/out/denoised/'\n",
    "\n",
    "for ab in Abs:\n",
    "  adata = fun(ab,indir,outdir,modeldir = modeldir,train = False,usereg = outdir+ab+'_usevar.csv')"
   ]
  }
 ],
 "metadata": {
  "kernelspec": {
   "display_name": "scvi-env2",
   "language": "python",
   "name": "python3"
  },
  "language_info": {
   "codemirror_mode": {
    "name": "ipython",
    "version": 3
   },
   "file_extension": ".py",
   "mimetype": "text/x-python",
   "name": "python",
   "nbconvert_exporter": "python",
   "pygments_lexer": "ipython3",
   "version": "3.11.9"
  }
 },
 "nbformat": 4,
 "nbformat_minor": 2
}
