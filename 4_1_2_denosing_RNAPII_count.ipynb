{
 "cells": [
  {
   "cell_type": "markdown",
   "metadata": {},
   "source": [
    "## Denoising and Batch Correction of RNAPII Count Matrix with PeakVI"
   ]
  },
  {
   "cell_type": "code",
   "execution_count": null,
   "metadata": {},
   "outputs": [],
   "source": [
    "import os\n",
    "import anndata\n",
    "import pickle\n",
    "import pandas as pd\n",
    "import numpy as np\n",
    "import scvi\n",
    "import scanpy as sc\n",
    "import torch\n",
    "from scipy.io import mmread"
   ]
  },
  {
   "cell_type": "code",
   "execution_count": null,
   "metadata": {},
   "outputs": [],
   "source": [
    "torch.cuda.is_available()"
   ]
  },
  {
   "cell_type": "code",
   "execution_count": null,
   "metadata": {},
   "outputs": [],
   "source": [
    "torch.set_float32_matmul_precision(\"high\")\n",
    "save_dir = tempfile.TemporaryDirectory()"
   ]
  },
  {
   "cell_type": "code",
   "execution_count": null,
   "metadata": {},
   "outputs": [],
   "source": [
    "os.chdir(\"data/mtx_filtered/\")\n",
    "\n",
    "matin = mmread('RNAP2_5sets_count_codingreg.mtx') \n",
    "matin = matin.tocsr()\n",
    "matin = matin.transpose()\n",
    "obsin = pd.read_csv('RNAP2_5sets_obs_codingreg.csv',index_col=0)\n",
    "varin = pd.read_csv('RNAP2_5sets_var_codingreg.csv',index_col=0)\n",
    "\n",
    "adata = anndata.AnnData(X = matin, obs = obsin, var = varin)\n",
    "del(matin,obsin,varin)"
   ]
  },
  {
   "cell_type": "code",
   "execution_count": null,
   "metadata": {},
   "outputs": [],
   "source": [
    "scvi.model.PEAKVI.setup_anndata(adata,batch_key = 'batch')"
   ]
  },
  {
   "cell_type": "code",
   "execution_count": null,
   "metadata": {},
   "outputs": [],
   "source": [
    "model = scvi.model.PEAKVI(adata,n_hidden=20,n_latent=5)\n",
    "model.to_device(\"cuda:0\")\n",
    "model.train()"
   ]
  },
  {
   "cell_type": "code",
   "execution_count": null,
   "metadata": {},
   "outputs": [],
   "source": [
    "adata.obsm['X_peakvi'] = model.get_latent_representation()\n",
    "sc.pp.neighbors(adata, use_rep='X_peakvi')\n",
    "sc.tl.umap(adata, min_dist=0.3)"
   ]
  },
  {
   "cell_type": "code",
   "execution_count": null,
   "metadata": {},
   "outputs": [],
   "source": [
    "sc.pl.umap(\n",
    "    adata,\n",
    "    color=[\"sample\", \"pair\"],\n",
    "    frameon=False,\n",
    "    size = 15,\n",
    ")"
   ]
  },
  {
   "cell_type": "code",
   "execution_count": null,
   "metadata": {},
   "outputs": [],
   "source": [
    "os.chdir(\"data/peakvi_out/\")\n",
    "\n",
    "np.savetxt(\"RNAPII_latent.csv\",adata.obsm['X_peakvi'])\n",
    "np.savetxt(\"RNAPII_umap.csv\",adata.obsm[\"X_umap\"])\n",
    "\n",
    "obs = adata.obs\n",
    "obs.to_csv('RNAPII_obs.csv')\n",
    "var = adata.var\n",
    "var.to_csv(\"RNAPII_var.csv\")\n",
    "\n",
    "import pickle\n",
    "with open('RNAPII_model.pkl', 'wb') as f:\n",
    "    pickle.dump(model, f)"
   ]
  }
 ],
 "metadata": {
  "kernelspec": {
   "display_name": "scvi-env2",
   "language": "python",
   "name": "python3"
  },
  "language_info": {
   "codemirror_mode": {
    "name": "ipython",
    "version": 3
   },
   "file_extension": ".py",
   "mimetype": "text/x-python",
   "name": "python",
   "nbconvert_exporter": "python",
   "pygments_lexer": "ipython3",
   "version": "3.11.9"
  }
 },
 "nbformat": 4,
 "nbformat_minor": 2
}
